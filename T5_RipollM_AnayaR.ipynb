{
 "cells": [
  {
   "cell_type": "code",
   "execution_count": 1,
   "id": "4e8f8f5f",
   "metadata": {},
   "outputs": [],
   "source": [
    "import numpy as np\n",
    "import pandas as pd"
   ]
  },
  {
   "cell_type": "markdown",
   "id": "5a9caac5",
   "metadata": {},
   "source": [
    "<img style=\"float: left; margin: 30px 15px 15px 15px;\" src=\"https://encrypted-tbn0.gstatic.com/images?q=tbn:ANd9GcTFzQj91sOlkeDFkg5HDbjtR4QJYmLXkfMNig&usqp=CAU\" width=\"400\" height=\"500\" /> \n",
    "    \n",
    "    \n",
    "### <font color='navy'> Simulación matemática. \n",
    "\n",
    "**Nombres:** Mariana Ripoll y Ricardo Anaya  \n",
    "\n",
    "**Fecha:** 29 de septiembre del 2023.\n",
    "\n",
    "**Expediente** : 747684\n",
    "    \n",
    "**Profesor:** Oscar David Jaramillo Zuluaga.\n",
    "    \n",
    "**Link Github**: https://github.com/marianaripoll/T5_RipollM_AnayaR.git\n",
    "\n",
    "# Tarea 5: Clase 10"
   ]
  },
  {
   "cell_type": "markdown",
   "id": "fd968bbb",
   "metadata": {},
   "source": [
    "## TAREA 5\n",
    "1. Realizar las siguientes integrales. Poner los resultados en una tabla cuyas filas correspondan a la cantidad de términos utilizados en la aproximación (usar 10, 100, 1000, 10000 y 100000 términos) y cuyas columnas correspondan a las funciones.\n",
    "    + $\\int_{1}^{5} \\log_{10}(2x)+8^x\\text{d}x$.\n",
    "    + $\\int_1^5 \\frac{2^x}{x^4} \\text{d}x$\n",
    "\n",
    "**Entregable: se debe subir un archivo con extensión .ipnyb y nombrarlo con el formato T6PrimerNombrePrimerApellido.ipynb**"
   ]
  },
  {
   "cell_type": "markdown",
   "id": "341feb00",
   "metadata": {},
   "source": [
    "### Ejercicio 1: (enunciado) Transcribirlo\n",
    "Código de solución estudiante 1"
   ]
  },
  {
   "cell_type": "code",
   "execution_count": 3,
   "id": "3071c731",
   "metadata": {},
   "outputs": [],
   "source": [
    "# Escribir la función acá\n",
    "def montecarlo1(f, a, b, N):\n",
    "     # Generar N puntos uniformemente distribudos en el intervalo [a,b)\n",
    "    ui = np.random.uniform(a, b, N)\n",
    "    # Evaluar la función en los N puntos aleatorios, obtener el promedio y multiplicarlo por el intervalo\n",
    "    integral = ((b-a)/N)*np.sum(f(ui))\n",
    "     # integral = (b-a)*np.mean(f(ui))   Esta línea es equivalente a la anterior\n",
    "    return integral"
   ]
  },
  {
   "cell_type": "code",
   "execution_count": 4,
   "id": "fe9f2240",
   "metadata": {},
   "outputs": [],
   "source": [
    "# Resolver\n",
    "# 1. Definir las funciones que vamos a integrar\n",
    "def f1(x):\n",
    "    return np.log10(2*x)+8**x\n",
    "def f2(x):\n",
    "    return (2**x)/x**4\n",
    "\n",
    "# 2. Definimos los limites de integracion\n",
    "a, b = 1, 5\n",
    "\n",
    "# 3. Definimos cantidades de terminos\n",
    "N = np.logspace(1, 5, 5).astype(int)"
   ]
  },
  {
   "cell_type": "code",
   "execution_count": 6,
   "id": "640f9252",
   "metadata": {},
   "outputs": [
    {
     "data": {
      "text/html": [
       "<div>\n",
       "<style scoped>\n",
       "    .dataframe tbody tr th:only-of-type {\n",
       "        vertical-align: middle;\n",
       "    }\n",
       "\n",
       "    .dataframe tbody tr th {\n",
       "        vertical-align: top;\n",
       "    }\n",
       "\n",
       "    .dataframe thead th {\n",
       "        text-align: right;\n",
       "    }\n",
       "</style>\n",
       "<table border=\"1\" class=\"dataframe\">\n",
       "  <thead>\n",
       "    <tr style=\"text-align: right;\">\n",
       "      <th></th>\n",
       "      <th>Aprox f1</th>\n",
       "      <th>Aprox f2</th>\n",
       "    </tr>\n",
       "    <tr>\n",
       "      <th>Cantidad de términos</th>\n",
       "      <th></th>\n",
       "      <th></th>\n",
       "    </tr>\n",
       "  </thead>\n",
       "  <tbody>\n",
       "    <tr>\n",
       "      <th>10</th>\n",
       "      <td>16762.005068</td>\n",
       "      <td>1.876807</td>\n",
       "    </tr>\n",
       "    <tr>\n",
       "      <th>100</th>\n",
       "      <td>9555.826213</td>\n",
       "      <td>0.894453</td>\n",
       "    </tr>\n",
       "    <tr>\n",
       "      <th>1000</th>\n",
       "      <td>16514.29107</td>\n",
       "      <td>1.02884</td>\n",
       "    </tr>\n",
       "    <tr>\n",
       "      <th>10000</th>\n",
       "      <td>15476.593293</td>\n",
       "      <td>1.004679</td>\n",
       "    </tr>\n",
       "    <tr>\n",
       "      <th>100000</th>\n",
       "      <td>15720.49598</td>\n",
       "      <td>1.010106</td>\n",
       "    </tr>\n",
       "  </tbody>\n",
       "</table>\n",
       "</div>"
      ],
      "text/plain": [
       "                          Aprox f1  Aprox f2\n",
       "Cantidad de términos                        \n",
       "10                    16762.005068  1.876807\n",
       "100                    9555.826213  0.894453\n",
       "1000                   16514.29107   1.02884\n",
       "10000                 15476.593293  1.004679\n",
       "100000                 15720.49598  1.010106"
      ]
     },
     "execution_count": 6,
     "metadata": {},
     "output_type": "execute_result"
    }
   ],
   "source": [
    "# Crear el DataFrame de pandas (tabla) que contendrá la información\n",
    "tabla1 = pd.DataFrame(index=N, columns = ['Aprox f1', 'Aprox f2'])\n",
    "\n",
    "# Agregar nombre al índice para que aprezca en la tabla\n",
    "tabla1.index.name = 'Cantidad de términos'\n",
    "\n",
    "# Rellenar las celdas de la aproximación de cada función\n",
    "for n in N:\n",
    "    aprox_f1 = montecarlo1(f1, a, b, n)\n",
    "    aprox_f2 = montecarlo1(f2, a, b, n)\n",
    "    \n",
    "    tabla1.loc[n, 'Aprox f1'] = aprox_f1\n",
    "    tabla1.loc[n, 'Aprox f2'] = aprox_f2\n",
    "    \n",
    "tabla1"
   ]
  },
  {
   "cell_type": "markdown",
   "id": "72547010",
   "metadata": {},
   "source": [
    "Código de solución estudiante 2"
   ]
  },
  {
   "cell_type": "code",
   "execution_count": null,
   "id": "6906a407",
   "metadata": {},
   "outputs": [],
   "source": []
  }
 ],
 "metadata": {
  "kernelspec": {
   "display_name": "Python 3 (ipykernel)",
   "language": "python",
   "name": "python3"
  },
  "language_info": {
   "codemirror_mode": {
    "name": "ipython",
    "version": 3
   },
   "file_extension": ".py",
   "mimetype": "text/x-python",
   "name": "python",
   "nbconvert_exporter": "python",
   "pygments_lexer": "ipython3",
   "version": "3.11.4"
  }
 },
 "nbformat": 4,
 "nbformat_minor": 5
}
